{
 "cells": [
  {
   "cell_type": "code",
   "execution_count": 70,
   "id": "c3d871d0-806a-4ba4-9ab9-e4babfb6d4fa",
   "metadata": {},
   "outputs": [
    {
     "name": "stdout",
     "output_type": "stream",
     "text": [
      "MeYouUffAhh\n"
     ]
    }
   ],
   "source": [
    "a = [\"Me\", \"You\",\"Uff\",\"Ahh\",\"\"]\n",
    "res = \"\"\n",
    "for val in a:\n",
    "    res += val\n",
    "\n",
    "print(res)"
   ]
  },
  {
   "cell_type": "code",
   "execution_count": 74,
   "id": "c1af7413-cb66-4136-aa3a-2520598662e4",
   "metadata": {},
   "outputs": [
    {
     "name": "stdin",
     "output_type": "stream",
     "text": [
      "Enter number of elements :  2\n",
      " 36987\n",
      " 25871\n"
     ]
    },
    {
     "name": "stdout",
     "output_type": "stream",
     "text": [
      "[36987, 25871]\n",
      "Sum of elements in given list is : 62858\n"
     ]
    }
   ],
   "source": [
    "lst = []\n",
    "n = int(input(\"Enter number of elements : \"))\n",
    "for i in range(0, n):  # Corrected indentation here\n",
    "    ele = int(input())  # Corrected indentation here\n",
    "    lst.append(ele)\n",
    "print(lst)\n",
    "print(\"Sum of elements in given list is :\", sum(lst))\n"
   ]
  },
  {
   "cell_type": "code",
   "execution_count": null,
   "id": "22d93ae4-e35e-4027-80fb-cf98a31dbefe",
   "metadata": {},
   "outputs": [],
   "source": []
  }
 ],
 "metadata": {
  "kernelspec": {
   "display_name": "Python [conda env:base] *",
   "language": "python",
   "name": "conda-base-py"
  },
  "language_info": {
   "codemirror_mode": {
    "name": "ipython",
    "version": 3
   },
   "file_extension": ".py",
   "mimetype": "text/x-python",
   "name": "python",
   "nbconvert_exporter": "python",
   "pygments_lexer": "ipython3",
   "version": "3.12.7"
  }
 },
 "nbformat": 4,
 "nbformat_minor": 5
}
